{
 "cells": [
  {
   "cell_type": "markdown",
   "metadata": {},
   "source": [
    "# Exercise 1.4\n",
    "\n",
    "By considering string slicing on the string `supercalifragilisticexpialidocious` and concatenation of strings, find the substrings of `supercalifragilisticexpialidocious` such that the string concatenation of all the substrings form the word `superstitious`."
   ]
  },
  {
   "cell_type": "code",
   "execution_count": 7,
   "metadata": {},
   "outputs": [
    {
     "name": "stdout",
     "output_type": "stream",
     "text": [
      "0\n",
      "Slice wanted is super\n",
      "16\n",
      "another slice I want is sti\n"
     ]
    }
   ],
   "source": [
    "# Mr Kwek\n",
    "s = 'supercalifragilisticexpialidocious'\n",
    "index_of_super = s.index('super')\n",
    "print(index_of_super)\n",
    "print(f'Slice wanted is {s[0:5]}')\n",
    "index_of_sti = s.index('sti')\n",
    "print(index_of_sti)\n",
    "print(f'another slice I want is {s[16:19]}')"
   ]
  }
 ],
 "metadata": {
  "kernelspec": {
   "display_name": "Python 3",
   "language": "python",
   "name": "python3"
  },
  "language_info": {
   "codemirror_mode": {
    "name": "ipython",
    "version": 3
   },
   "file_extension": ".py",
   "mimetype": "text/x-python",
   "name": "python",
   "nbconvert_exporter": "python",
   "pygments_lexer": "ipython3",
   "version": "3.12.1"
  }
 },
 "nbformat": 4,
 "nbformat_minor": 2
}
